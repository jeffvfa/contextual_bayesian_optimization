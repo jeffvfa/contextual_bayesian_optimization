{
 "cells": [
  {
   "cell_type": "code",
   "execution_count": 1,
   "metadata": {},
   "outputs": [],
   "source": [
    "from contex_bayes_opt import ContextualBayesianOptimization, UtilityFunction\n",
    "from sklearn.gaussian_process.kernels import Matern, WhiteKernel\n",
    "import numpy as np\n",
    "import matplotlib.pyplot as plt\n"
   ]
  },
  {
   "cell_type": "code",
   "execution_count": 2,
   "metadata": {},
   "outputs": [],
   "source": [
    "def dummy_environment(context, action):\n",
    "    return np.sum(np.abs(action - (1 - context))) / len(context) "
   ]
  },
  {
   "cell_type": "code",
   "execution_count": 3,
   "metadata": {},
   "outputs": [],
   "source": [
    "discvars = {'a1': np.linspace(0, 1, 100),\n",
    "            'a2': np.linspace(0, 1, 100), }\n",
    "action_dim = len(discvars)\n",
    "contexts = {'c1': '', 'c2': '',}\n",
    "context_dim = len(contexts)\n",
    "\n",
    "\n",
    "length_scale = np.ones(context_dim+action_dim)\n",
    "kernel = WhiteKernel(noise_level=1) + Matern(nu=1.5, length_scale=length_scale)\n",
    "noise = 1e-6\n",
    "\n",
    "beta_function='const'\n",
    "beta_const_val=2.5\n"
   ]
  },
  {
   "cell_type": "code",
   "execution_count": 4,
   "metadata": {},
   "outputs": [
    {
     "name": "stderr",
     "output_type": "stream",
     "text": [
      "/home/jeffersonva/Documents/contextual_bayesian_optimization/contex_bayes_opt/contextual_bayesian_optimization.py:32: UserWarning: Kernel hyperparameters will be computed during the optimization.\n",
      "  warnings.warn('Kernel hyperparameters will be computed during the optimization.')\n"
     ]
    }
   ],
   "source": [
    "optimizer = ContextualBayesianOptimization(all_actions_dict=discvars, contexts=contexts, kernel=kernel)\n",
    "\n",
    "utility = UtilityFunction(kind=\"ucb\", beta_kind=beta_function, beta_const=beta_const_val)\n"
   ]
  },
  {
   "cell_type": "code",
   "execution_count": 5,
   "metadata": {},
   "outputs": [
    {
     "name": "stdout",
     "output_type": "stream",
     "text": [
      "context={'c1': 0.09174612963016371, 'c2': 0.9475762229515426}, action={'a1': 0.5454545454545455, 'a2': 0.7575757575757577}, vContext=[0.09174613 0.94757622],vAction=[0.54545455 0.75757576],reward=-0.5339756527212955\n",
      "\n",
      "context={'c1': 0.38804332723891877, 'c2': 0.903660385463399}, action={'a1': 0.6767676767676768, 'a2': 0.0}, vContext=[0.38804333 0.90366039],vAction=[0.67676768 0.        ],reward=-0.08057530927159828\n",
      "\n",
      "context={'c1': 0.9141219593579719, 'c2': 0.10686603708976739}, action={'a1': 0.14141414141414144, 'a2': 0.8080808080808082}, vContext=[0.91412196 0.10686604],vAction=[0.14141414 0.80808081],reward=-0.0702946278007689\n",
      "\n",
      "context={'c1': 0.630079644302969, 'c2': 0.6468924514433938}, action={'a1': 0.24242424242424243, 'a2': 0.4141414141414142}, vContext=[0.63007964 0.64689245],vAction=[0.24242424 0.41414141],reward=-0.09426498942879827\n",
      "\n"
     ]
    }
   ],
   "source": [
    "# TRAIN\n",
    "nIters = 100\n",
    "for i in range(nIters):\n",
    "    rand_context = np.random.rand(context_dim)\n",
    "    context = optimizer.array_to_context(rand_context)\n",
    "    \n",
    "    action = optimizer.suggest(context, utility)\n",
    "    \n",
    "    vContext = optimizer.context_to_array(context)\n",
    "    vAction = optimizer.action_to_array(action)\n",
    "    reward = - dummy_environment(vContext, vAction)\n",
    "\n",
    "    if i%25 == 0:\n",
    "        print(f'context={context}, action={action}, vContext={vContext},vAction={vAction},reward={reward}\\n')\n",
    "    optimizer.register(context, action, reward)"
   ]
  },
  {
   "cell_type": "code",
   "execution_count": 6,
   "metadata": {},
   "outputs": [],
   "source": [
    "res = optimizer.res\n",
    "vReward = []\n",
    "for i in range(nIters):\n",
    "    vReward.append(res[i]['reward'])"
   ]
  },
  {
   "cell_type": "code",
   "execution_count": 7,
   "metadata": {},
   "outputs": [
    {
     "data": {
      "image/png": "[encoded data removed]",
      "text/plain": [
       "<Figure size 432x288 with 1 Axes>"
      ]
     },
     "metadata": {
      "needs_background": "light"
     },
     "output_type": "display_data"
    }
   ],
   "source": [
    "plt.figure()\n",
    "plt.plot(vReward)\n",
    "plt.xlabel('Iterations')\n",
    "plt.ylabel('Reward')\n",
    "plt.show()"
   ]
  },
  {
   "cell_type": "code",
   "execution_count": 8,
   "metadata": {},
   "outputs": [
    {
     "name": "stdout",
     "output_type": "stream",
     "text": [
      "Defaulting to user installation because normal site-packages is not writeable\n",
      "Requirement already satisfied: gymnasium in /home/jeffersonva/.local/lib/python3.10/site-packages (0.29.1)\n",
      "Requirement already satisfied: typing-extensions>=4.3.0 in /home/jeffersonva/.local/lib/python3.10/site-packages (from gymnasium) (4.3.0)\n",
      "Requirement already satisfied: farama-notifications>=0.0.1 in /home/jeffersonva/.local/lib/python3.10/site-packages (from gymnasium) (0.0.4)\n",
      "Requirement already satisfied: cloudpickle>=1.2.0 in /home/jeffersonva/.local/lib/python3.10/site-packages (from gymnasium) (2.1.0)\n",
      "Requirement already satisfied: numpy>=1.21.0 in /home/jeffersonva/.local/lib/python3.10/site-packages (from gymnasium) (1.23.0)\n"
     ]
    }
   ],
   "source": [
    "!pip install gymnasium\n",
    "import gymnasium as gym\n",
    "env = gym.make('CartPole-v1')"
   ]
  },
  {
   "cell_type": "code",
   "execution_count": 9,
   "metadata": {},
   "outputs": [
    {
     "name": "stderr",
     "output_type": "stream",
     "text": [
      "/home/jeffersonva/Documents/contextual_bayesian_optimization/contex_bayes_opt/contextual_bayesian_optimization.py:32: UserWarning: Kernel hyperparameters will be computed during the optimization.\n",
      "  warnings.warn('Kernel hyperparameters will be computed during the optimization.')\n"
     ]
    },
    {
     "name": "stdout",
     "output_type": "stream",
     "text": [
      "EPISODE = 0, reward=13.0\n",
      " \n",
      "EPISODE = 10, reward=10.0\n",
      " \n",
      "EPISODE = 20, reward=10.0\n",
      " \n",
      "EPISODE = 30, reward=13.0\n",
      " \n",
      "EPISODE = 40, reward=9.0\n",
      " \n"
     ]
    }
   ],
   "source": [
    "discvars_cart = {'a1': np.linspace(0, 1, 2)}\n",
    "action_dim_cart = len(discvars_cart)\n",
    "contexts_cart = {'c1': '', 'c2': '','c3': '','c4': '',}\n",
    "context_dim_cart = len(contexts_cart)\n",
    "\n",
    "\n",
    "length_scale = np.ones(context_dim_cart+action_dim_cart)\n",
    "kernel_cart = WhiteKernel(noise_level=1) + Matern(nu=1.5, length_scale=length_scale)\n",
    "\n",
    "optimizer_cart = ContextualBayesianOptimization(all_actions_dict=discvars_cart, contexts=contexts_cart, kernel=kernel_cart)\n",
    "utility_cart = UtilityFunction(kind=\"ucb\", beta_kind=beta_function, beta_const=beta_const_val)\n",
    "\n",
    "# TRAIN\n",
    "nIters = 50\n",
    "env_context = env.reset()[0] \n",
    "reward = 0\n",
    "done = False\n",
    "all_rewards = []\n",
    "# print(env_context)\n",
    "for i in range(nIters):\n",
    "    while (done)!= True:\n",
    "        # print(i)\n",
    "        context = optimizer_cart.array_to_context(env_context)\n",
    "        \n",
    "        action = optimizer_cart.suggest(context, utility_cart)\n",
    "        \n",
    "        vContext = optimizer_cart.context_to_array(context)\n",
    "        vAction = optimizer_cart.action_to_array(action)\n",
    "        \n",
    "        # print(f'{len(env.step(int(vAction[0])))}\\n\\n\\n\\n')\n",
    "        context_next, reward_n, done, info, _ = env.step(int(vAction[0]))\n",
    "        \n",
    "        reward += reward_n\n",
    "        # print(i, reward, done)\n",
    "        \n",
    "        optimizer_cart.register(context, action, reward)\n",
    "        \n",
    "        \n",
    "        if done: \n",
    "            if i % 10 == 0: \n",
    "                    print(f'EPISODE = {i}, reward={reward}\\n ')\n",
    "            all_rewards.append(reward)\n",
    "            env_context = env.reset()[0]\n",
    "            reward = 0\n",
    "        else:    \n",
    "            env_context = context_next\n",
    "    done = False"
   ]
  },
  {
   "cell_type": "code",
   "execution_count": 10,
   "metadata": {},
   "outputs": [],
   "source": [
    "# res_cart = optimizer_cart.res\n",
    "# res_cart\n",
    "# vReward_cart = []\n",
    "# for i in range(nIters):\n",
    "#     vReward_cart.append(res_cart[i]['reward'])"
   ]
  },
  {
   "cell_type": "code",
   "execution_count": 11,
   "metadata": {},
   "outputs": [
    {
     "data": {
      "image/png": "[encoded data removed]",
      "text/plain": [
       "<Figure size 432x288 with 1 Axes>"
      ]
     },
     "metadata": {
      "needs_background": "light"
     },
     "output_type": "display_data"
    }
   ],
   "source": [
    "plt.figure()\n",
    "plt.plot(all_rewards)\n",
    "plt.xlabel('Iterations')\n",
    "plt.ylabel('Reward')\n",
    "plt.show()"
   ]
  },
  {
   "cell_type": "code",
   "execution_count": 43,
   "metadata": {},
   "outputs": [],
   "source": [
    "X_test, y_test = env_context, action['a1']"
   ]
  },
  {
   "cell_type": "code",
   "execution_count": null,
   "metadata": {},
   "outputs": [],
   "source": []
  }
 ],
 "metadata": {
  "kernelspec": {
   "display_name": "Python 3",
   "language": "python",
   "name": "python3"
  },
  "language_info": {
   "codemirror_mode": {
    "name": "ipython",
    "version": 3
   },
   "file_extension": ".py",
   "mimetype": "text/x-python",
   "name": "python",
   "nbconvert_exporter": "python",
   "pygments_lexer": "ipython3",
   "version": "3.10.12"
  }
 },
 "nbformat": 4,
 "nbformat_minor": 2
}
